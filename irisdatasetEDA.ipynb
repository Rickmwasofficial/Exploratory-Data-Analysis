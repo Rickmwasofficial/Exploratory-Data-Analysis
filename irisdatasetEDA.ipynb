# EDA on the Iris Dataset

Description: The Iris dataset contains measurements of 150 Iris flowers from three different species: Setosa, Versicolor, and Virginica. Each entry has four features: sepal length, sepal width, petal length, and petal width.

Source: [UCI Machine Learning Repository - Iris Dataset](https://archive.ics.uci.edu/dataset/53/iris)

Fisher,R. A.. (1988). Iris. UCI Machine Learning Repository. https://doi.org/10.24432/C56C76.

# import nescessary packages
import numpy as np
import pandas as pd
import matplotlib.pyplot as plt
import seaborn as sns

# Load the dataset
url = "/content/iris.data"
columns = ['sepal_length', 'sepal_width', 'petal_length', 'petal_width', 'species']
df = pd.read_csv(url, header=None, names=columns)
df
